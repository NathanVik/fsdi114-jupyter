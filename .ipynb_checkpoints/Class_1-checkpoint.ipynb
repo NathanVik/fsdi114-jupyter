{
 "cells": [
  {
   "cell_type": "code",
   "execution_count": 1,
   "id": "debc8ff3",
   "metadata": {},
   "outputs": [
    {
     "name": "stdout",
     "output_type": "stream",
     "text": [
      "h\n",
      "e\n",
      "l\n",
      "l\n",
      "o\n",
      ",\n",
      " \n",
      "w\n",
      "o\n",
      "r\n",
      "l\n",
      "d\n",
      "!\n"
     ]
    }
   ],
   "source": [
    "for letter in \"hello, world!\":\n",
    "    print(letter)\n"
   ]
  },
  {
   "cell_type": "markdown",
   "id": "d3f215fb",
   "metadata": {},
   "source": [
    "# Problem 1\n",
    "### Given 2 strings (string_ a and string_b), let's check if they are anagrams of each other given the following criteria:\n",
    ">Two strongs are only anagrams if all the following conditions apply\n",
    "> * The must be the saem length\n",
    "> * the must use the exact same characters\n",
    "Example: cars and scar are anagrams, cars and scaar are not\n"
   ]
  },
  {
   "cell_type": "code",
   "execution_count": 2,
   "id": "6f4d6a77",
   "metadata": {},
   "outputs": [],
   "source": [
    "# declare function check_anagrams -> parameters, string_a and string_b\n",
    "def check_anagrams(string_a, string_b):\n",
    "    if len(string_a) != len(string_b):           # if string a and string b are not same length, return false\n",
    "        return False                             # guarantees best case time complexity = O(1)\n",
    "    char_times_a = dict()\n",
    "    char_times_b = dict()\n",
    "    for i in range(len(string_a)):               # Declare two dictionaries to track characters\n",
    "        if string_a[i] not in char_times_a.keys(): # loop for length of string\n",
    "            char_times_a[string_a[i]] = 0          # if the character at postion [i] is not in the new dict, add it\n",
    "        else:\n",
    "            char_times_a[string_a[i]] += 1         # if character is in dict, +1 count\n",
    "        if string_b[i] not in char_times_b.keys(): # same for string B\n",
    "            char_times_b[string_b[i]] = 0\n",
    "        else:\n",
    "            char_times_b[string_b[i]] += 1\n",
    "    return char_times_a == char_times_b           # compare the dictionaies of letter count\n",
    "\n",
    "# fix issues of spaces and capitilization\n",
    "#submit it\n",
    "\n",
    "\n"
   ]
  },
  {
   "cell_type": "code",
   "execution_count": 3,
   "id": "3be9f31b",
   "metadata": {},
   "outputs": [
    {
     "data": {
      "text/plain": [
       "True"
      ]
     },
     "execution_count": 3,
     "metadata": {},
     "output_type": "execute_result"
    }
   ],
   "source": [
    "check_anagrams(\"cars\", \"scar\")"
   ]
  },
  {
   "cell_type": "code",
   "execution_count": 4,
   "id": "f4b5913b",
   "metadata": {},
   "outputs": [
    {
     "data": {
      "text/plain": [
       "False"
      ]
     },
     "execution_count": 4,
     "metadata": {},
     "output_type": "execute_result"
    }
   ],
   "source": [
    "check_anagrams(\"car\", \"carr\")"
   ]
  },
  {
   "cell_type": "code",
   "execution_count": 5,
   "id": "d7d0da56",
   "metadata": {},
   "outputs": [
    {
     "data": {
      "text/plain": [
       "True"
      ]
     },
     "execution_count": 5,
     "metadata": {},
     "output_type": "execute_result"
    }
   ],
   "source": [
    "check_anagrams(\"car\", \"car\")"
   ]
  },
  {
   "cell_type": "code",
   "execution_count": 7,
   "id": "774ab300",
   "metadata": {},
   "outputs": [],
   "source": [
    "class Stack:\n",
    "    def __init__(self):\n",
    "        self.items = []\n",
    "        \n",
    "    def is_empty(self):\n",
    "        return self.items == []\n",
    "    \n",
    "    def push(self, item):\n",
    "        self.items.append(item)\n",
    "        \n",
    "    def pop(self):\n",
    "        return self.items.pop()\n",
    "    \n",
    "    def peek(self):\n",
    "        return self.items[len(self.items)-1]\n",
    "    \n",
    "    def size(self):\n",
    "        return len(self.items)\n",
    "    \n",
    "    def __len__(self):  # enables len method i.e. len(mystack)\n",
    "        return self.size()\n",
    "    \n"
   ]
  },
  {
   "cell_type": "markdown",
   "id": "6868c767",
   "metadata": {},
   "source": [
    "# problem 2: reverse a string\n",
    "### use a stack to reverse a string\n",
    "> * star -> rats\n",
    "> * racecar -> racecar\n"
   ]
  },
  {
   "cell_type": "code",
   "execution_count": 8,
   "id": "f5783471",
   "metadata": {},
   "outputs": [],
   "source": [
    "#function to reverse a string\n",
    "\n",
    "def reverse_string(my_string):\n",
    "    mystack = Stack()\n",
    "#push string to stack\n",
    "    for char in my_string:\n",
    "        mystack.push(char)\n",
    "    string_out = \"\"        # create new empty string\n",
    "    while mystack.is_empty() == False:  # until our stack \"is empty\" / while the stack is not empty\n",
    "        string_out += mystack.pop()     # add the character from the stack to the empty string\n",
    "    return string_out                   # return the new string\n",
    "\n",
    "\n"
   ]
  },
  {
   "cell_type": "code",
   "execution_count": 9,
   "id": "7f06cd30",
   "metadata": {},
   "outputs": [
    {
     "data": {
      "text/plain": [
       "'olleh'"
      ]
     },
     "execution_count": 9,
     "metadata": {},
     "output_type": "execute_result"
    }
   ],
   "source": [
    "reverse_string(\"hello\")"
   ]
  },
  {
   "cell_type": "code",
   "execution_count": 10,
   "id": "bd4c716f",
   "metadata": {},
   "outputs": [],
   "source": [
    "#creating a queue!\n",
    "\n",
    "class Queue:\n",
    "    def __init__(self):\n",
    "        self.items = []\n",
    "    \n",
    "    def is_empty(self):\n",
    "        return self.items == []\n",
    "    \n",
    "    def enqueue(self, item):\n",
    "        self.items.insert(0, item)\n",
    "        \n",
    "    def dequeue(self):\n",
    "        return self.items.pop()\n",
    "    \n",
    "    def size(self):\n",
    "        return len(self.items)\n",
    "    \n",
    "    "
   ]
  },
  {
   "cell_type": "code",
   "execution_count": 15,
   "id": "ea556b01",
   "metadata": {},
   "outputs": [],
   "source": [
    "from string import ascii_lowercase\n",
    "from random import randint, choice\n",
    "from time import sleep\n",
    "\n",
    "\n",
    "def register_visitors(visitor_queue):\n",
    "    for char in ascii_lowercase:\n",
    "        visitor_queue.enqueue(char)\n",
    "        \n",
    "def service_customers(visitor_queue):\n",
    "    bank_tellers = [\"A\", \"B\", \"C\", \"D\", \"E\", \"F\", \"G\"]\n",
    "    while not visitor_queue.is_empty():\n",
    "        visitor = visitor_queue.dequeue()\n",
    "        print(\"Thank you for waiting, %s, station %s is ready for you\" % (visitor, choice(bank_tellers)))\n",
    "        sleep(randint(1,2))\n",
    "    print(\"empty visitor queue\")\n",
    "    \n",
    "def main():\n",
    "    visitor_queue = Queue()\n",
    "    register_visitors(visitor_queue)\n",
    "    service_customers(visitor_queue)\n",
    "    "
   ]
  },
  {
   "cell_type": "code",
   "execution_count": 16,
   "id": "7a28775a",
   "metadata": {},
   "outputs": [
    {
     "name": "stdout",
     "output_type": "stream",
     "text": [
      "Thank you for waiting, a, station E is ready for you\n",
      "Thank you for waiting, b, station E is ready for you\n",
      "Thank you for waiting, c, station A is ready for you\n",
      "Thank you for waiting, d, station E is ready for you\n",
      "Thank you for waiting, e, station F is ready for you\n",
      "Thank you for waiting, f, station B is ready for you\n",
      "Thank you for waiting, g, station D is ready for you\n",
      "Thank you for waiting, h, station E is ready for you\n",
      "Thank you for waiting, i, station E is ready for you\n",
      "Thank you for waiting, j, station G is ready for you\n",
      "Thank you for waiting, k, station E is ready for you\n",
      "Thank you for waiting, l, station E is ready for you\n",
      "Thank you for waiting, m, station B is ready for you\n",
      "Thank you for waiting, n, station D is ready for you\n",
      "Thank you for waiting, o, station A is ready for you\n",
      "Thank you for waiting, p, station C is ready for you\n",
      "Thank you for waiting, q, station F is ready for you\n",
      "Thank you for waiting, r, station B is ready for you\n",
      "Thank you for waiting, s, station F is ready for you\n",
      "Thank you for waiting, t, station F is ready for you\n",
      "Thank you for waiting, u, station A is ready for you\n",
      "Thank you for waiting, v, station F is ready for you\n",
      "Thank you for waiting, w, station C is ready for you\n",
      "Thank you for waiting, x, station F is ready for you\n",
      "Thank you for waiting, y, station D is ready for you\n",
      "Thank you for waiting, z, station B is ready for you\n",
      "empty visitor queue\n"
     ]
    }
   ],
   "source": [
    "main()"
   ]
  },
  {
   "cell_type": "code",
   "execution_count": null,
   "id": "bab1caad",
   "metadata": {},
   "outputs": [],
   "source": []
  }
 ],
 "metadata": {
  "kernelspec": {
   "display_name": "Python 3 (ipykernel)",
   "language": "python",
   "name": "python3"
  },
  "language_info": {
   "codemirror_mode": {
    "name": "ipython",
    "version": 3
   },
   "file_extension": ".py",
   "mimetype": "text/x-python",
   "name": "python",
   "nbconvert_exporter": "python",
   "pygments_lexer": "ipython3",
   "version": "3.8.10"
  }
 },
 "nbformat": 4,
 "nbformat_minor": 5
}
