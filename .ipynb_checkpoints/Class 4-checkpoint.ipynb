{
 "cells": [
  {
   "cell_type": "code",
   "execution_count": 26,
   "id": "e8b34617",
   "metadata": {},
   "outputs": [],
   "source": [
    "class Node:\n",
    "    \"\"\"\n",
    "    This class has two purposes:\n",
    "        a) store some data\n",
    "        b) point to the next node in a sequence of nodes\n",
    "    \"\"\"\n",
    "    def __init__(self, data):\n",
    "        self.data = data\n",
    "        self.next = None\n",
    "        \n",
    "    def __repr__(self):\n",
    "        return \"< Node %r >\" % self.data"
   ]
  },
  {
   "cell_type": "code",
   "execution_count": 70,
   "id": "870fdcb6",
   "metadata": {},
   "outputs": [],
   "source": [
    "class LinkedList:\n",
    "    \"\"\"\n",
    "        The Linked List class maintains the reference to the head of the list\n",
    "    \"\"\"\n",
    "    def __init__(self):                    # Note that when a new LL is initialized, self.head is None\n",
    "        self.head = None\n",
    "        \n",
    "    def append(self, data):\n",
    "        if not self.head:                  # if self.head is None, (meaining we have a new list)\n",
    "            self.head = Node(data)         # ... populate it with a Node (that contains data)\n",
    "        else:\n",
    "            tail = self.find_tail()        # first: find tail (tail is a node that points to None)\n",
    "            tail.next = Node(data)         # set tail.nect (attribute) to point to a new Node with data\n",
    "    \n",
    "    def prepend(self, data):\n",
    "        new_node = Node(data)\n",
    "        new_node.next = self.head\n",
    "        self.head = new_node\n",
    "        \n",
    "    \n",
    "    def insert(self, postion, data):\n",
    "        \"\"\"\n",
    "            Insert a node with \"data\" after a node at postion\n",
    "        \"\"\"\n",
    "        node_at_index = self.get_node_at_index(postion)# find the spot where we insert\n",
    "        current_next_node = node_at_index.next         # copy the address of where it currently points\n",
    "        new_node = Node(data)                          # create new node\n",
    "        node_at_index.next = new_node                  # point old node at our new one\n",
    "        new_node.next = current_next_node              # point new one at the previously connected node we saved\n",
    "    \n",
    "    #Given a target value, find a node that contains it and remove that node\n",
    "    def remove_node(self, target):\n",
    "        if self.head.data == target:\n",
    "            self.head = self.head.next\n",
    "        else:\n",
    "            #if the value is in the list\n",
    "            current = self.head\n",
    "            previous = None\n",
    "            while current:\n",
    "                previous = current\n",
    "                current = current.next\n",
    "                if current.data == value:\n",
    "                    previous.next = current.next\n",
    "                    break\n",
    "        raise ValueError(\"Value is not in the list\")\n",
    "    \n",
    "    \n",
    "    def get_node_at_index(self, target):\n",
    "        current = self.head\n",
    "        counter = 0\n",
    "        while current:\n",
    "            if counter == target:\n",
    "                return current\n",
    "            current = current.next\n",
    "            counter += 1\n",
    "        raise IndexError(\"Index out of bounds.\")\n",
    "    \n",
    "    def find_tail(self):\n",
    "        current = self.head                # creating temp var with the reference to self.head\n",
    "        while current.next:                # as long as current.next is not None, \n",
    "            current = current.next         # set current to point to current.next\n",
    "        return current                     # finally, return current (which at this point has .next set to none)\n",
    "    \n",
    "    def search(self, target):\n",
    "        current = self.head               # step 1: create a temp variable that points to head\n",
    "        while current:                    # step 2: check if we reached the tail (which points to none)\n",
    "            if current.data == target:    \n",
    "                return True\n",
    "            print(\"Saw %s\" % current)\n",
    "            current = current.next        # step 3 continue looping by switching out current for current.next\n",
    "        return False\n",
    "    \n",
    "    def find_position_by_data(self, target):\n",
    "        current = self.head\n",
    "        counter = 0\n",
    "        while current:            \n",
    "            if current.data == target:\n",
    "                print(\"Data was found at index %s!\" % counter)\n",
    "                return counter\n",
    "            current = current.next\n",
    "            counter += 1\n",
    "        raise ValueError(\"Data not found in list\")\n",
    "    \n",
    "    def __str__(self):\n",
    "        current = self.head\n",
    "        temp_list = []\n",
    "        while current:\n",
    "            temp_list.append(str(current.data))\n",
    "            current = current.next\n",
    "        return \"[%s]\" % \",\".join(temp_list)"
   ]
  },
  {
   "cell_type": "code",
   "execution_count": 71,
   "id": "e8f6d885",
   "metadata": {},
   "outputs": [
    {
     "name": "stdout",
     "output_type": "stream",
     "text": [
      "[0,1,2,3,4]\n",
      "Saw < Node 0 >\n",
      "Saw < Node 1 >\n",
      "Saw < Node 2 >\n",
      "Saw < Node 3 >\n",
      "is 4 in the linked list? -> True\n",
      "Saw < Node 0 >\n",
      "Saw < Node 1 >\n",
      "Saw < Node 2 >\n",
      "Saw < Node 3 >\n",
      "Saw < Node 4 >\n",
      "is 5 in the linked list? -> False\n"
     ]
    }
   ],
   "source": [
    "my_ll = LinkedList()\n",
    "for i in range(5):\n",
    "    my_ll.append(i)\n",
    "    \n",
    "print(my_ll)\n",
    "print(\"is 4 in the linked list? -> %s\" % my_ll.search(4))\n",
    "print(\"is 5 in the linked list? -> %s\" % my_ll.search(5))"
   ]
  },
  {
   "cell_type": "code",
   "execution_count": 33,
   "id": "9d6ab34b",
   "metadata": {},
   "outputs": [
    {
     "name": "stdout",
     "output_type": "stream",
     "text": [
      "[1, 2, 3]\n"
     ]
    }
   ],
   "source": [
    "x = [1, 2, 3]\n",
    "print(x)"
   ]
  },
  {
   "cell_type": "code",
   "execution_count": 45,
   "id": "f4cc916c",
   "metadata": {},
   "outputs": [
    {
     "name": "stdout",
     "output_type": "stream",
     "text": [
      "< Node 3 >\n"
     ]
    }
   ],
   "source": [
    "print(my_ll.get_node_at_index(3))"
   ]
  },
  {
   "cell_type": "code",
   "execution_count": 63,
   "id": "3e7ce79f",
   "metadata": {},
   "outputs": [
    {
     "name": "stdout",
     "output_type": "stream",
     "text": [
      "Data was found at index 3!\n"
     ]
    },
    {
     "data": {
      "text/plain": [
       "3"
      ]
     },
     "execution_count": 63,
     "metadata": {},
     "output_type": "execute_result"
    }
   ],
   "source": [
    "my_ll.find_position_by_data(3)"
   ]
  },
  {
   "cell_type": "code",
   "execution_count": 68,
   "id": "0cac5a8d",
   "metadata": {},
   "outputs": [],
   "source": [
    "my_ll.prepend(3.2)"
   ]
  },
  {
   "cell_type": "code",
   "execution_count": 69,
   "id": "e82adf88",
   "metadata": {},
   "outputs": [
    {
     "name": "stdout",
     "output_type": "stream",
     "text": [
      "Data was found at index 4!\n"
     ]
    },
    {
     "data": {
      "text/plain": [
       "4"
      ]
     },
     "execution_count": 69,
     "metadata": {},
     "output_type": "execute_result"
    }
   ],
   "source": [
    "my_ll.find_position_by_data(3)"
   ]
  },
  {
   "cell_type": "code",
   "execution_count": 72,
   "id": "6b9b823c",
   "metadata": {},
   "outputs": [],
   "source": [
    "class DNode:\n",
    "    def __init__(self, data):\n",
    "        self.data = data\n",
    "        self.prev = None\n",
    "        self.next = None"
   ]
  },
  {
   "cell_type": "code",
   "execution_count": 78,
   "id": "b5464ae6",
   "metadata": {},
   "outputs": [],
   "source": [
    "class DLList:\n",
    "    def __init__(self):\n",
    "        self.head = None\n",
    "    \n",
    "\n",
    "    \n",
    "    def insert(self, position, data):\n",
    "        \"\"\"insert before a given position\"\"\"\n",
    "        if not self.head:\n",
    "            raise IndexError(\"Cannot find position in empty list\")\n",
    "        if position == 0:\n",
    "            new_node = DNode(data)\n",
    "            new_node.next = self.head\n",
    "            self.head = new_node\n",
    "            new_node.next.previous = self.head\n",
    "        counter = 1\n",
    "        current = self.head.next\n",
    "        while current:\n",
    "            if counter == position:\n",
    "                previous_node = current.prev\n",
    "                new_node = DNode(data)\n",
    "                previous_node.next = new_node\n",
    "                new_node.prev = previous_node\n",
    "                new_node.next = current\n",
    "                current.prev = new_node\n",
    "        raise IndexError(\"Index out of bounds\")\n",
    "        \n",
    "        \n",
    "            \n",
    "            \n",
    "        "
   ]
  },
  {
   "cell_type": "code",
   "execution_count": null,
   "id": "b2c87b5f",
   "metadata": {},
   "outputs": [],
   "source": [
    "dlist = DLList()\n",
    "dlist.head = DNode(\"a\")\n",
    "dlist.insert(0, \"b\")\n",
    "dlist.insert(0, \"c\")\n",
    "\n",
    "current = dlist.head\n",
    "while current:\n",
    "    print(current.data)\n",
    "    current = current.next"
   ]
  },
  {
   "cell_type": "code",
   "execution_count": null,
   "id": "d0730fae",
   "metadata": {},
   "outputs": [],
   "source": []
  }
 ],
 "metadata": {
  "kernelspec": {
   "display_name": "Python 3 (ipykernel)",
   "language": "python",
   "name": "python3"
  },
  "language_info": {
   "codemirror_mode": {
    "name": "ipython",
    "version": 3
   },
   "file_extension": ".py",
   "mimetype": "text/x-python",
   "name": "python",
   "nbconvert_exporter": "python",
   "pygments_lexer": "ipython3",
   "version": "3.8.10"
  }
 },
 "nbformat": 4,
 "nbformat_minor": 5
}
